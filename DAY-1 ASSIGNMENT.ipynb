{
 "cells": [
  {
   "cell_type": "code",
   "execution_count": null,
   "id": "ff2440a0-fe3e-4a24-bbac-dfb3fe82cae0",
   "metadata": {},
   "outputs": [],
   "source": []
  }
 ],
 "metadata": {
  "kernelspec": {
   "display_name": "",
   "name": ""
  },
  "language_info": {
   "name": ""
  }
 },
 "nbformat": 4,
 "nbformat_minor": 5
}
